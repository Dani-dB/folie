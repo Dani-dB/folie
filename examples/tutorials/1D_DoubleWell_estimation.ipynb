{
 "cells": [
  {
   "cell_type": "markdown",
   "metadata": {},
   "source": [
    "# 1D Double Well estimation \n"
   ]
  },
  {
   "cell_type": "code",
   "execution_count": null,
   "metadata": {},
   "outputs": [],
   "source": [
    "import numpy as np\n",
    "import matplotlib.pyplot as plt\n",
    "import folie as fl\n",
    "import csv\n",
    "from mpl_toolkits.mplot3d import Axes3D\n",
    "from copy import deepcopy\n"
   ]
  },
  {
   "cell_type": "markdown",
   "metadata": {},
   "source": [
    "## 1D UNBIASED Double Well Potential"
   ]
  },
  {
   "cell_type": "markdown",
   "metadata": {},
   "source": [
    "### 1) The model \n"
   ]
  },
  {
   "cell_type": "markdown",
   "metadata": {},
   "source": [
    "Here we model the double well potential as a quartic function $V(q)= \\sum_{i=0}^4 c_iq^i$ and choose a constant diffusion coefficient $D(q)=q$ :\n",
    "\n",
    "The force parameter to pass to the simulator will then be : $F = - \\frac{dV(q)}{dq}$"
   ]
  },
  {
   "cell_type": "code",
   "execution_count": null,
   "metadata": {
    "tags": []
   },
   "outputs": [],
   "source": [
    "coeff=0.1*np.array([0,0,-4.5,0,0.1]) # coefficients of the free energy\n",
    "free_energy = np.polynomial.Polynomial(coeff)\n",
    "force_coeff=np.array([-coeff[1],-2*coeff[2],-3*coeff[3],-4*coeff[4]]) #coefficients of the free energy\n",
    "force_function = fl.functions.Polynomial(deg=3,coefficients=force_coeff)\n",
    "diff_function= fl.functions.Polynomial(deg=0,coefficients=np.asarray([0.5]))"
   ]
  },
  {
   "cell_type": "code",
   "execution_count": null,
   "metadata": {},
   "outputs": [],
   "source": [
    "# Plot of Free Energy and Force\n",
    "x_values = np.linspace(-7, 7, 100)\n",
    "fig, axs = plt.subplots(1, 2)\n",
    "axs[0].plot(x_values,free_energy(x_values))\n",
    "axs[1].plot(x_values,force_function(x_values.reshape(len(x_values),1)))\n",
    "axs[0].set_title(\"Potential\")\n",
    "axs[0].set_xlabel(\"$x$\")\n",
    "axs[0].set_ylabel(\"$V(x)$\")\n",
    "axs[0].grid()\n",
    "axs[1].set_title(\"Force\") \n",
    "axs[1].set_xlabel(\"$x$\")\n",
    "axs[1].set_ylabel(\"$F(x)$\") \n",
    "axs[1].grid()"
   ]
  },
  {
   "cell_type": "markdown",
   "metadata": {},
   "source": [
    "### 2) Simulation"
   ]
  },
  {
   "cell_type": "code",
   "execution_count": null,
   "metadata": {},
   "outputs": [],
   "source": [
    "# Define model to simulate and type of simulator to use\n",
    "dt=1e-3\n",
    "model_simu = fl.models.overdamped.Overdamped(force_function,diffusion=diff_function)\n",
    "simulator = fl.simulations.Simulator(fl.simulations.EulerStepper(model_simu), dt)"
   ]
  },
  {
   "cell_type": "code",
   "execution_count": null,
   "metadata": {},
   "outputs": [],
   "source": [
    "ntraj=30\n",
    "q0= np.empty(ntraj)\n",
    "for i in range(len(q0)):\n",
    "    q0[i]=0\n",
    "# Calculate Trajectory\n",
    "time_steps=10000\n",
    "data = simulator.run(time_steps, q0, 1)"
   ]
  },
  {
   "cell_type": "code",
   "execution_count": null,
   "metadata": {},
   "outputs": [],
   "source": [
    "# Plot the trajecories\n",
    "fig, axs = plt.subplots(1,1)\n",
    "for n, trj in enumerate(data):\n",
    "    axs.plot(trj[\"x\"])\n",
    "    axs.set_title(\"Trajectory\")\n",
    "    axs.set_xlabel(\"$timestep$\")"
   ]
  },
  {
   "cell_type": "markdown",
   "metadata": {},
   "source": [
    "### 3) Model Training "
   ]
  },
  {
   "cell_type": "markdown",
   "metadata": {},
   "source": [
    "####  3.1) Training using same functional form of true force and diffusion "
   ]
  },
  {
   "cell_type": "code",
   "execution_count": null,
   "metadata": {},
   "outputs": [],
   "source": [
    "# Parameters of the training\n",
    "trainforce =fl.functions.Polynomial(deg=3,coefficients=np.asarray([1,1,1,1]))\n",
    "traindiff = fl.functions.Polynomial(deg=0,coefficients=np.asarray([0.0]))\n",
    "\n",
    "trainmodel=fl.models.Overdamped(force = trainforce,diffusion=traindiff)\n",
    "\n",
    "Eul_estimator = fl.LikelihoodEstimator(fl.EulerDensity(deepcopy(trainmodel)))  # deepcopy is used because the estimator modifies the model when fit method is called\n",
    "Ozk_estimator = fl.LikelihoodEstimator(fl.OzakiDensity(deepcopy(trainmodel)))  # and when the second estimator uses the object trainmodel this will already have the modfications\n",
    "Shj_estimator = fl.LikelihoodEstimator(fl.ShojiOzakiDensity(deepcopy(trainmodel))) # made by the previous estimator and so in the end they will return the exact same results\n",
    "Eln_estimator = fl.LikelihoodEstimator(fl.ElerianDensity(deepcopy(trainmodel))) \n",
    "Ksl_estimator = fl.LikelihoodEstimator(fl.KesslerDensity(deepcopy(trainmodel)))\n",
    "Drz_estimator = fl.LikelihoodEstimator(fl.DrozdovDensity(deepcopy(trainmodel)))\n",
    "\n",
    "Eul_res=Eul_estimator.fit_fetch(deepcopy(data))\n",
    "Ozk_res=Ozk_estimator.fit_fetch(deepcopy(data))\n",
    "Shj_res=Shj_estimator.fit_fetch(deepcopy(data))\n",
    "Eln_res=Eln_estimator.fit_fetch(deepcopy(data))\n",
    "Ksl_res=Ksl_estimator.fit_fetch(deepcopy(data))\n",
    "Drz_res=Drz_estimator.fit_fetch(deepcopy(data))\n",
    "\n",
    "res_vec = [Eul_res,Ozk_res,Shj_res,Eln_res,Ksl_res,Drz_res] # made a list of all the trained estimators \n"
   ]
  },
  {
   "cell_type": "code",
   "execution_count": null,
   "metadata": {},
   "outputs": [],
   "source": [
    "fig, axs = plt.subplots(1, 2, figsize=(10, 6))\n",
    "axs[0].set_title(\"Force\")\n",
    "axs[0].set_xlabel(\"$x$\")\n",
    "axs[0].set_ylabel(\"$F(x)$\")\n",
    "axs[0].grid()\n",
    "\n",
    "axs[1].set_title(\"Diffusion Coefficient\")\n",
    "axs[1].set_xlabel(\"$x$\")\n",
    "axs[1].set_ylabel(\"$D(x)$\") \n",
    "axs[1].grid()\n",
    "xfa = np.linspace(-7.0, 7.0, 75)\n",
    "\n",
    "#Plot exact quantities \n",
    "axs[0].plot(xfa, model_simu.force(xfa.reshape(-1, 1)), label=\"Exact\")\n",
    "axs[1].plot(xfa, model_simu.diffusion(xfa.reshape(-1, 1)), label=\"Exact\")\n",
    "#Plot inferred quantities \n",
    "names = [\"Euler\", \"Ozaki\", \"ShojiOzaki\", \"Elerian\", \"Kessler\", \"Drozdov\"]\n",
    "for i in range(len(names)):\n",
    "    axs[0].plot(xfa, res_vec[i].force(xfa.reshape(-1, 1)), label=names[i] )\n",
    "    axs[1].plot(xfa, res_vec[i].diffusion(xfa.reshape(-1, 1)), label=names[i])\n",
    "    print(res_vec[i].coefficients)\n",
    "axs[0].legend()\n",
    "axs[1].legend()\n",
    "\n"
   ]
  },
  {
   "cell_type": "markdown",
   "metadata": {},
   "source": [
    "Check if the methods are returning all the the same results"
   ]
  },
  {
   "cell_type": "code",
   "execution_count": null,
   "metadata": {},
   "outputs": [],
   "source": [
    "for i in range(len(names)-1):\n",
    "    flag_force= (res_vec[i].force(xfa.reshape(-1, 1)) == res_vec[i+1].force(xfa.reshape(-1, 1))).all()\n",
    "    flag_diff= (res_vec[i].diffusion(xfa.reshape(-1, 1)) == res_vec[i+1].diffusion(xfa.reshape(-1, 1))).all()\n",
    "    print(flag_force, flag_diff)  # apparently they are "
   ]
  },
  {
   "cell_type": "markdown",
   "metadata": {},
   "source": [
    "####  3.2) Training using splines"
   ]
  },
  {
   "cell_type": "code",
   "execution_count": null,
   "metadata": {},
   "outputs": [],
   "source": [
    "# Parameters of the training\n",
    "\n",
    "domain = fl.MeshedDomain.create_from_range(np.linspace(data.stats.min , data.stats.max , 10).ravel())\n",
    "trainmodel = fl.models.OverdampedSplines1D(domain=domain)\n",
    "\n",
    "Eul_estimator = fl.LikelihoodEstimator(fl.EulerDensity(deepcopy(trainmodel)))\n",
    "Ozk_estimator = fl.LikelihoodEstimator(fl.OzakiDensity(deepcopy(trainmodel)))\n",
    "Shj_estimator = fl.LikelihoodEstimator(fl.ShojiOzakiDensity(deepcopy(trainmodel)))\n",
    "Eln_estimator = fl.LikelihoodEstimator(fl.ElerianDensity(deepcopy(trainmodel)))\n",
    "Ksl_estimator = fl.LikelihoodEstimator(fl.KesslerDensity(deepcopy(trainmodel)))\n",
    "Drz_estimator = fl.LikelihoodEstimator(fl.DrozdovDensity(deepcopy(trainmodel)))\n",
    "\n",
    "Eul_res=Eul_estimator.fit_fetch(deepcopy(data))\n",
    "Ozk_res=Ozk_estimator.fit_fetch(deepcopy(data))\n",
    "Shj_res=Shj_estimator.fit_fetch(deepcopy(data))\n",
    "Eln_res=Eln_estimator.fit_fetch(deepcopy(data))\n",
    "Ksl_res=Ksl_estimator.fit_fetch(deepcopy(data))\n",
    "Drz_res=Drz_estimator.fit_fetch(deepcopy(data))\n",
    "\n",
    "res_vec = [Eul_res,Ozk_res,Shj_res,Eln_res,Ksl_res,Drz_res] # made a list of all the trained estimators \n"
   ]
  },
  {
   "cell_type": "code",
   "execution_count": null,
   "metadata": {},
   "outputs": [],
   "source": [
    "fig, axs = plt.subplots(1, 2, figsize=(16, 8))\n",
    "# axs.set_title(\"training using splines and 30 trajectories \")\n",
    "axs[0].set_title(\"Force\")\n",
    "axs[0].set_xlabel(\"$x$\")\n",
    "axs[0].set_ylabel(\"$F(x)$\")\n",
    "axs[0].grid()\n",
    "\n",
    "axs[1].set_title(\"Diffusion Coefficient\")\n",
    "axs[1].set_xlabel(\"$x$\")\n",
    "axs[1].set_ylabel(\"$D(x)$\") \n",
    "axs[1].grid()\n",
    "xfa = np.linspace(-7.0, 7.0, 75)\n",
    "\n",
    "#Plot exact quantities \n",
    "axs[0].plot(xfa, model_simu.force(xfa.reshape(-1, 1)), label=\"Exact\")\n",
    "axs[1].plot(xfa, model_simu.diffusion(xfa.reshape(-1, 1)), label=\"Exact\")\n",
    "#Plot inferred quantities \n",
    "names = [\"Euler\", \"Ozaki\", \"ShojiOzaki\", \"Elerian\", \"Kessler\", \"Drozdov\"]\n",
    "for i in range(len(names)):\n",
    "    axs[0].plot(xfa, res_vec[i].force(xfa.reshape(-1, 1)), label=names[i] )\n",
    "    axs[1].plot(xfa, res_vec[i].diffusion(xfa.reshape(-1, 1)), label=names[i])\n",
    "axs[0].legend()\n",
    "axs[1].legend()"
   ]
  },
  {
   "cell_type": "markdown",
   "metadata": {},
   "source": [
    "Check if the methods are returning all the the same results"
   ]
  },
  {
   "cell_type": "code",
   "execution_count": null,
   "metadata": {},
   "outputs": [],
   "source": [
    "for i in range(len(names)-1):\n",
    "    flag_force= (res_vec[i].force(xfa.reshape(-1, 1)) == res_vec[i+1].force(xfa.reshape(-1, 1))).all()\n",
    "    flag_diff= (res_vec[i].diffusion(xfa.reshape(-1, 1)) == res_vec[i+1].diffusion(xfa.reshape(-1, 1))).all()\n",
    "    print(flag_force, flag_diff)  # apparently they are "
   ]
  },
  {
   "cell_type": "markdown",
   "metadata": {},
   "source": [
    "## 1D BIASED Double Well Potential\n"
   ]
  },
  {
   "cell_type": "markdown",
   "metadata": {},
   "source": [
    "### 1) Model"
   ]
  },
  {
   "cell_type": "markdown",
   "metadata": {},
   "source": [
    "Here we model the double well potential as a quartic function $V(q)= \\sum_{i=0}^4 c_iq^i$ and choose a constant diffusion coefficient $D(q)=D$ : $\\newline$\n",
    "The force parameter to pass to the simulator will then be : $F = - \\frac{dV(q)}{dq}$   $\\newline$\n",
    "Adiabaic bias used : $V_{bias}(q)=\\frac{1}{2}k(q-q_0)^2  \\longmapsto$ ABMD_Simulator $\\newline$\n",
    "The center of the parabola, $q_0$, is choosen as : $max(q,q_0)$ at every iteration "
   ]
  },
  {
   "cell_type": "code",
   "execution_count": null,
   "metadata": {},
   "outputs": [],
   "source": [
    "coeff=0.1*np.array([0,0,-4.5,0,0.1]) # coefficients of the free energy\n",
    "free_energy = np.polynomial.Polynomial(coeff)\n",
    "force_coeff=np.array([-coeff[1],-2*coeff[2],-3*coeff[3],-4*coeff[4]]) #coefficients of the free energy\n",
    "force_function = fl.functions.Polynomial(deg=3,coefficients=force_coeff)\n",
    "diff_function= fl.functions.Polynomial(deg=0,coefficients=np.asarray([0.5]))"
   ]
  },
  {
   "cell_type": "code",
   "execution_count": null,
   "metadata": {},
   "outputs": [],
   "source": [
    "# Plot of Free Energy and Force\n",
    "x_values = np.linspace(-7, 7, 100)\n",
    "fig, axs = plt.subplots(1, 2)\n",
    "axs[0].plot(x_values,free_energy(x_values))\n",
    "axs[1].plot(x_values,force_function(x_values.reshape(len(x_values),1)))\n",
    "axs[0].set_title(\"Potential\")\n",
    "axs[0].set_xlabel(\"$x$\")\n",
    "axs[0].set_ylabel(\"$V(x)$\")\n",
    "axs[0].grid()\n",
    "axs[1].set_title(\"Force\") \n",
    "axs[1].set_xlabel(\"$x$\")\n",
    "axs[1].set_ylabel(\"$F(x)$\") \n",
    "axs[1].grid()"
   ]
  },
  {
   "cell_type": "markdown",
   "metadata": {},
   "source": [
    "### 2) Simulation"
   ]
  },
  {
   "cell_type": "code",
   "execution_count": null,
   "metadata": {},
   "outputs": [],
   "source": [
    "# Define model to simulate and type of simulator to use\n",
    "dt=1e-3\n",
    "biased_model_simu = fl.models.overdamped.Overdamped(force_function,diffusion=diff_function)\n",
    "biased_simulator = fl.simulations.ABMD_Simulator(fl.simulations.EulerStepper(biased_model_simu), dt, k=10.0, xstop=6.0) \n",
    "ntraj=30\n",
    "q0= np.empty(ntraj)\n",
    "for i in range(len(q0)):\n",
    "    q0[i]=-6.0\n",
    "# Calculate Trajectory\n",
    "time_steps=35000\n",
    "biased_data = biased_simulator.run(time_steps, q0, 1)\n",
    "xmax = np.concatenate(biased_simulator.xmax_hist, axis=1).T    # if you rerun simulator.run without reinializing the simulator object it will probably append the results making xmax twice as long "
   ]
  },
  {
   "cell_type": "code",
   "execution_count": null,
   "metadata": {},
   "outputs": [],
   "source": [
    "# Plot the trajecories\n",
    "fig, axs = plt.subplots(1,2,figsize=(10,6))\n",
    "for n, trj in enumerate(biased_data):\n",
    "    axs[0].plot(trj[\"x\"])\n",
    "    axs[0].set_title(\"Trajectory\")\n",
    "    axs[0].set_xlabel(\"$timestep$\")\n",
    "    axs[0].set_ylabel(\"q(t)\")\n",
    "    axs[1].plot(xmax)\n",
    "    axs[1].set_title(\"q_0\")\n",
    "    axs[1].set_xlabel(\"$timesteps$\")\n",
    "\n"
   ]
  },
  {
   "cell_type": "markdown",
   "metadata": {},
   "source": [
    "### 3) Model Training "
   ]
  },
  {
   "cell_type": "markdown",
   "metadata": {},
   "source": [
    "####  3.1) Training using same functional form of true force and diffusion "
   ]
  },
  {
   "cell_type": "code",
   "execution_count": null,
   "metadata": {},
   "outputs": [],
   "source": [
    "# Parameters of the training\n",
    "\n",
    "trainforce =fl.functions.Polynomial(deg=3,coefficients=np.asarray([1,1,1,1]))\n",
    "traindiff = fl.functions.Polynomial(deg=0,coefficients=np.asarray([0.0]))\n",
    "\n",
    "Eul_trainmodel=fl.models.Overdamped(force = deepcopy(trainforce),diffusion=deepcopy(traindiff), has_bias=True)\n",
    "Ozk_trainmodel=fl.models.Overdamped(force = deepcopy(trainforce),diffusion=deepcopy(traindiff), has_bias=True)\n",
    "Shj_trainmodel=fl.models.Overdamped(force = deepcopy(trainforce),diffusion=deepcopy(traindiff), has_bias=True)\n",
    "Eln_trainmodel=fl.models.Overdamped(force = deepcopy(trainforce),diffusion=deepcopy(traindiff), has_bias=True)\n",
    "Ksl_trainmodel=fl.models.Overdamped(force = deepcopy(trainforce),diffusion=deepcopy(traindiff), has_bias=True)\n",
    "Drz_trainmodel=fl.models.Overdamped(force = deepcopy(trainforce),diffusion=deepcopy(traindiff), has_bias=True)\n",
    "\n",
    "Eul_estimator = fl.LikelihoodEstimator(fl.EulerDensity(Eul_trainmodel))\n",
    "Ozk_estimator = fl.LikelihoodEstimator(fl.OzakiDensity(Ozk_trainmodel))\n",
    "Shj_estimator = fl.LikelihoodEstimator(fl.ShojiOzakiDensity(Shj_trainmodel))\n",
    "Eln_estimator = fl.LikelihoodEstimator(fl.ElerianDensity(Eln_trainmodel))\n",
    "Ksl_estimator = fl.LikelihoodEstimator(fl.KesslerDensity(Ksl_trainmodel))\n",
    "Drz_estimator = fl.LikelihoodEstimator(fl.DrozdovDensity(Drz_trainmodel))\n",
    "\n",
    "Eul_res=Eul_estimator.fit_fetch(deepcopy(biased_data))\n",
    "Ozk_res=Ozk_estimator.fit_fetch(deepcopy(biased_data))\n",
    "Shj_res=Shj_estimator.fit_fetch(deepcopy(biased_data))\n",
    "Eln_res=Eln_estimator.fit_fetch(deepcopy(biased_data))\n",
    "Ksl_res=Ksl_estimator.fit_fetch(deepcopy(biased_data))\n",
    "Drz_res=Drz_estimator.fit_fetch(deepcopy(biased_data))\n",
    "\n",
    "res_vec = [Eul_res,Ozk_res,Shj_res,Eln_res,Ksl_res,Drz_res] # made a list of all the trained estimators \n"
   ]
  },
  {
   "cell_type": "code",
   "execution_count": null,
   "metadata": {},
   "outputs": [],
   "source": [
    "fig, axs = plt.subplots(1, 2, figsize=(10, 6))\n",
    "axs[0].set_title(\"Force\")\n",
    "axs[0].set_xlabel(\"$x$\")\n",
    "axs[0].set_ylabel(\"$F(x)$\")\n",
    "axs[0].grid()\n",
    "\n",
    "axs[1].set_title(\"Diffusion Coefficient\")\n",
    "axs[1].set_xlabel(\"$x$\")\n",
    "axs[1].set_ylabel(\"$D(x)$\") \n",
    "axs[1].grid()\n",
    "xfa = np.linspace(-7.0, 7.0, 75)\n",
    "\n",
    "#Plot exact quantities \n",
    "biased_model_simu.remove_bias()\n",
    "axs[0].plot(xfa, biased_model_simu.force(xfa.reshape(-1, 1)), label=\"Exact\")\n",
    "axs[1].plot(xfa, biased_model_simu.diffusion(xfa.reshape(-1, 1)), label=\"Exact\")\n",
    "#Plot inferred quantities \n",
    "names = [\"Euler\", \"Ozaki\", \"ShojiOzaki\", \"Elerian\", \"Kessler\", \"Drozdov\"]\n",
    "for i in range(len(names)):\n",
    "    res_vec[i].remove_bias()\n",
    "    axs[0].plot(xfa, res_vec[i].force(xfa.reshape(-1, 1)), label=names[i] )\n",
    "    axs[1].plot(xfa, res_vec[i].diffusion(xfa.reshape(-1, 1)), label=names[i])\n",
    "axs[0].legend()\n",
    "axs[1].legend()\n"
   ]
  },
  {
   "cell_type": "code",
   "execution_count": null,
   "metadata": {},
   "outputs": [],
   "source": [
    "for i in range(len(names)-1):\n",
    "    flag_force= (res_vec[i].force(xfa.reshape(-1, 1)) == res_vec[i+1].force(xfa.reshape(-1, 1))).all()\n",
    "    flag_diff= (res_vec[i].diffusion(xfa.reshape(-1, 1)) == res_vec[i+1].diffusion(xfa.reshape(-1, 1))).all()\n",
    "    print(flag_force, flag_diff)  # apparently they are "
   ]
  },
  {
   "cell_type": "markdown",
   "metadata": {},
   "source": [
    "####  3.2) Training using splines"
   ]
  },
  {
   "cell_type": "code",
   "execution_count": null,
   "metadata": {},
   "outputs": [],
   "source": [
    "# Parameters of the training\n",
    "n_knots= 5\n",
    "domain = fl.MeshedDomain.create_from_range(np.linspace(biased_data.stats.min , biased_data.stats.max , n_knots).ravel())\n",
    "trainmodel = fl.models.OverdampedSplines1D(domain=domain)\n",
    "\n",
    "Eul_estimator = fl.LikelihoodEstimator(fl.EulerDensity(deepcopy(trainmodel)))\n",
    "Ozk_estimator = fl.LikelihoodEstimator(fl.OzakiDensity(deepcopy(trainmodel)))\n",
    "Shj_estimator = fl.LikelihoodEstimator(fl.ShojiOzakiDensity(deepcopy(trainmodel)))\n",
    "Eln_estimator = fl.LikelihoodEstimator(fl.ElerianDensity(deepcopy(trainmodel)))\n",
    "Ksl_estimator = fl.LikelihoodEstimator(fl.KesslerDensity(deepcopy(trainmodel)))\n",
    "Drz_estimator = fl.LikelihoodEstimator(fl.DrozdovDensity(deepcopy(trainmodel)))\n",
    "\n",
    "Eul_res=Eul_estimator.fit_fetch(deepcopy(biased_data))\n",
    "Ozk_res=Ozk_estimator.fit_fetch(deepcopy(biased_data))\n",
    "Shj_res=Shj_estimator.fit_fetch(deepcopy(biased_data))\n",
    "Eln_res=Eln_estimator.fit_fetch(deepcopy(biased_data))\n",
    "Ksl_res=Ksl_estimator.fit_fetch(deepcopy(biased_data))\n",
    "Drz_res=Drz_estimator.fit_fetch(deepcopy(biased_data))\n",
    "\n",
    "res_vec = [Eul_res,Ozk_res,Shj_res,Eln_res,Ksl_res,Drz_res] # made a list of all the trained estimators \n"
   ]
  },
  {
   "cell_type": "code",
   "execution_count": null,
   "metadata": {},
   "outputs": [],
   "source": [
    "fig, axs = plt.subplots(1, 2, figsize=(10, 6))\n",
    "axs[0].set_title(\"Force\")\n",
    "axs[0].set_xlabel(\"$x$\")\n",
    "axs[0].set_ylabel(\"$F(x)$\")\n",
    "axs[0].grid()\n",
    "\n",
    "axs[1].set_title(\"Diffusion Coefficient\")\n",
    "axs[1].set_xlabel(\"$x$\")\n",
    "axs[1].set_ylabel(\"$D(x)$\") \n",
    "axs[1].grid()\n",
    "fig.suptitle('B-spline Fitting with '+str(n_knots)+ ' knots')\n",
    "\n",
    "xfa = np.linspace(-7.0, 7.0, 75)\n",
    "\n",
    "#Plot exact quantities \n",
    "biased_model_simu.remove_bias()\n",
    "axs[0].plot(xfa, biased_model_simu.force(xfa.reshape(-1, 1)), label=\"Exact\")\n",
    "axs[1].plot(xfa, biased_model_simu.diffusion(xfa.reshape(-1, 1)), label=\"Exact\")\n",
    "#Plot inferred quantities \n",
    "names = [\"Euler\", \"Ozaki\", \"ShojiOzaki\", \"Elerian\", \"Kessler\", \"Drozdov\"]\n",
    "for i in range(len(names)):\n",
    "    res_vec[i].remove_bias()\n",
    "    axs[0].plot(xfa, res_vec[i].force(xfa.reshape(-1, 1)), label=names[i] )\n",
    "    axs[1].plot(xfa, res_vec[i].diffusion(xfa.reshape(-1, 1)), label=names[i])\n",
    "axs[0].legend()\n",
    "axs[1].legend()"
   ]
  }
 ],
 "metadata": {
  "kernelspec": {
   "display_name": "folie",
   "language": "python",
   "name": "python3"
  },
  "language_info": {
   "codemirror_mode": {
    "name": "ipython",
    "version": 3
   },
   "file_extension": ".py",
   "mimetype": "text/x-python",
   "name": "python",
   "nbconvert_exporter": "python",
   "pygments_lexer": "ipython3",
   "version": "3.12.2"
  }
 },
 "nbformat": 4,
 "nbformat_minor": 2
}
