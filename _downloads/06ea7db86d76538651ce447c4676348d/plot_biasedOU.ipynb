{
  "cells": [
    {
      "cell_type": "markdown",
      "metadata": {},
      "source": [
        "\n# ABMD biased dynamics\n\nEstimation of an overdamped Langevin in presence of biased dynamics.\n"
      ]
    },
    {
      "cell_type": "code",
      "execution_count": null,
      "metadata": {
        "collapsed": false
      },
      "outputs": [],
      "source": [
        "import numpy as np\nimport folie as fl\nimport matplotlib.pyplot as plt\n\n\n# First let's generate some biased trajectories\n\nmodel_simu = fl.models.OrnsteinUhlenbeck(0.0, 1.2, 2.0)\nsimulator = fl.simulations.ABMD_Simulator(fl.simulations.EulerStepper(model_simu), 1e-3, k=10.0, xstop=6.0)\ndata = simulator.run(5000, np.zeros((25,)), 25)\nxmax = np.concatenate(simulator.xmax_hist, axis=1).T\n\n# Plot the resulting trajectories\n# sphinx_gallery_thumbnail_number = 1\nfig, axs = plt.subplots(1, 2)\nfor n, trj in enumerate(data):\n    axs[0].plot(trj[\"x\"])\n    axs[1].plot(xmax[:, n])\n\nfig, axs = plt.subplots(1, 2)\naxs[0].set_title(\"Force\")\naxs[0].set_xlabel(\"$x$\")\naxs[0].set_ylabel(\"$F(x)$\")\naxs[0].grid()\n\naxs[1].set_title(\"Force\")\naxs[1].set_xlabel(\"$x$\")\naxs[1].set_ylabel(\"$D(x)$\")\naxs[1].grid()\n\n\nxfa = np.linspace(-7.0, 7.0, 75)\nmodel_simu.remove_bias()\naxs[0].plot(xfa, model_simu.force(xfa.reshape(-1, 1)), label=\"Exact\")\naxs[1].plot(xfa, model_simu.diffusion(xfa.reshape(-1, 1)), label=\"Exact\")\nfor name, transitioncls in zip(\n    [\"Euler\", \"Ozaki\", \"ShojiOzaki\", \"Elerian\", \"Kessler\", \"Drozdov\"],\n    [\n        fl.EulerDensity,\n        fl.OzakiDensity,\n        fl.ShojiOzakiDensity,\n        fl.ElerianDensity,\n        fl.KesslerDensity,\n        fl.DrozdovDensity,\n    ],\n):\n    estimator = fl.LikelihoodEstimator(transitioncls(fl.models.OrnsteinUhlenbeck(has_bias=True)))\n    res = estimator.fit_fetch(data)\n    print(res.coefficients)\n    res.remove_bias()\n    axs[0].plot(xfa, res.force(xfa.reshape(-1, 1)), label=name)\n    axs[1].plot(xfa, res.diffusion(xfa.reshape(-1, 1)), label=name)\naxs[0].legend()\naxs[1].legend()\nplt.show()"
      ]
    }
  ],
  "metadata": {
    "kernelspec": {
      "display_name": "Python 3",
      "language": "python",
      "name": "python3"
    },
    "language_info": {
      "codemirror_mode": {
        "name": "ipython",
        "version": 3
      },
      "file_extension": ".py",
      "mimetype": "text/x-python",
      "name": "python",
      "nbconvert_exporter": "python",
      "pygments_lexer": "ipython3",
      "version": "3.10.14"
    }
  },
  "nbformat": 4,
  "nbformat_minor": 0
}