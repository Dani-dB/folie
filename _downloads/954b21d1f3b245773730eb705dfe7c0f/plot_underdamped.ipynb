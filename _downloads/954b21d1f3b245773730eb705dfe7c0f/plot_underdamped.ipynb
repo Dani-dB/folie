{
  "cells": [
    {
      "cell_type": "markdown",
      "metadata": {},
      "source": [
        "\n# Overdamped Langevin Estimation\n\nHow to run a simple estimation\n"
      ]
    },
    {
      "cell_type": "code",
      "execution_count": null,
      "metadata": {
        "collapsed": false
      },
      "outputs": [],
      "source": [
        "import numpy as np\nimport matplotlib.pyplot as plt\n\nimport folie as fl\n\nfig, axs = plt.subplots(2, 2)\n\n# Trouver comment on rentre les donn\u00e9es\ntrj = np.loadtxt(\"datasets/example_underdamped2.trj\")\ndata = fl.Trajectories(dt=trj[1, 0] - trj[0, 0])\ndata.append(trj[:, 1:2])\n\naxs[0, 0].set_title(\"Phase Space\")\naxs[0, 0].set_xlabel(\"$x$\")\naxs[0, 0].set_ylabel(\"$v$\")\naxs[0, 0].grid()\naxs[0, 0].plot(trj[:, 1:2], trj[:, 2:3])\n\n\nfun = fl.functions.Polynomial(deg=3)\nfun_cst = fl.functions.Constant()\nmodel = fl.models.Underdamped(fun, fun_cst, fun_cst)\nestimator = fl.UnderdampedKramersMoyalEstimator(model)\nmodel = estimator.fit_fetch(data)\nprint(model.coefficients)\n\n# To find a correct parametrization of the space\nxfa = np.linspace(data.stats.min, data.stats.max, 150).ravel()\n\n# Force plot\naxs[0, 1].set_title(\"Force\")\naxs[0, 1].set_xlabel(\"$x$\")\naxs[0, 1].set_ylabel(\"$F(x)$\")\naxs[0, 1].grid()\naxs[0, 1].plot(xfa, model.force(xfa.reshape(-1, 1)))\naxs[0, 1].plot(xfa, -2 * xfa * (xfa**2 - 1), label=\"True\")\n\n\n# Friction plot\naxs[1, 0].set_title(\"Friction\")\naxs[1, 0].set_xlabel(\"$x$\")\naxs[1, 0].set_ylabel(\"$\\\\gamma(x)$\")\naxs[1, 0].grid()\naxs[1, 0].plot(xfa, model.friction(xfa.reshape(-1, 1)))\naxs[1, 0].plot(xfa, 0.1 * np.ones_like(xfa))\n\n\n# Diffusion plot\naxs[1, 1].set_title(\"Diffusion\")\naxs[1, 1].grid()\naxs[1, 1].plot(xfa, model.diffusion(xfa.reshape(-1, 1)))\naxs[1, 1].plot(xfa, 0.1 / 3.0 * np.ones_like(xfa))\naxs[1, 1].set_xlabel(\"$x$\")\naxs[1, 1].set_ylabel(\"$D(x)$\")\nplt.show()"
      ]
    }
  ],
  "metadata": {
    "kernelspec": {
      "display_name": "Python 3",
      "language": "python",
      "name": "python3"
    },
    "language_info": {
      "codemirror_mode": {
        "name": "ipython",
        "version": 3
      },
      "file_extension": ".py",
      "mimetype": "text/x-python",
      "name": "python",
      "nbconvert_exporter": "python",
      "pygments_lexer": "ipython3",
      "version": "3.10.14"
    }
  },
  "nbformat": 4,
  "nbformat_minor": 0
}