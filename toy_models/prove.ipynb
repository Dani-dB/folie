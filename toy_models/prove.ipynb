{
 "cells": [
  {
   "cell_type": "code",
   "execution_count": 2,
   "metadata": {},
   "outputs": [],
   "source": [
    "import numpy as np\n",
    "import matplotlib.pyplot as plt\n",
    "import folie as fl\n"
   ]
  },
  {
   "cell_type": "code",
   "execution_count": 1,
   "metadata": {},
   "outputs": [
    {
     "name": "stdout",
     "output_type": "stream",
     "text": [
      "the min of potential is in x= -4.767676767676767\n"
     ]
    },
    {
     "data": {
      "image/png": "[encoded data removed]",
      "text/plain": [
       "<Figure size 640x480 with 1 Axes>"
      ]
     },
     "metadata": {},
     "output_type": "display_data"
    }
   ],
   "source": [
    "\n",
    "coeff=[0,0,-4.5,0,0.1]\n",
    "poly = np.polynomial.Polynomial(coeff)\n",
    "d_poly= np.polynomial.Polynomial([coeff[1],2*coeff[2],3*coeff[3],4*coeff[4]])\n",
    "d_poly_function = fl.functions.Polynomial(polynom=-d_poly)\n",
    "x_values = np.linspace(-8, 8, 100)\n",
    "y= poly(x_values)\n",
    "z=-d_poly(x_values)\n",
    "plt.plot(x_values,y)\n",
    "print('the min of potential is in x=',x_values[np.argmin(y)])"
   ]
  },
  {
   "cell_type": "code",
   "execution_count": null,
   "metadata": {},
   "outputs": [],
   "source": [
    "class Student:\n",
    "    # constructor\n",
    "    def __init__(self, name, age):\n",
    "        # Instance variable\n",
    "        self.name = name\n",
    "        self.age = age\n",
    "\n",
    "# create first object\n",
    "s1 = Student(\"Jessa\", 20)\n",
    "\n",
    "# access instance variable\n",
    "print('Object 1')\n",
    "print('Name:', s1.name)\n",
    "print('Age:', s1.age)\n",
    "\n",
    "# create second object\n",
    "s2= Student(\"Kelly\", 10)\n",
    "\n",
    "# access instance variable\n",
    "print('Object 2')\n",
    "print('Name:', s2.name)\n",
    "print('Age:', s2.age)\n"
   ]
  },
  {
   "cell_type": "code",
   "execution_count": 12,
   "metadata": {},
   "outputs": [
    {
     "name": "stdout",
     "output_type": "stream",
     "text": [
      "[[1 2 3]\n",
      " [4 5 6]]\n"
     ]
    }
   ],
   "source": [
    "f= np.array([[1,2,3],[4,5,6]])\n",
    "f.ravel()\n",
    "print(f)"
   ]
  },
  {
   "cell_type": "code",
   "execution_count": 13,
   "metadata": {},
   "outputs": [
    {
     "name": "stdout",
     "output_type": "stream",
     "text": [
      "23\n"
     ]
    }
   ],
   "source": [
    "g=[1,2,3,4,5,6,7,8]\n",
    "h=g\n",
    "g[2]=23\n",
    "print(h[2])"
   ]
  },
  {
   "cell_type": "code",
   "execution_count": 19,
   "metadata": {},
   "outputs": [],
   "source": [
    "coeff=0.1*np.array([0,0,-4.5,0,0.1])\n",
    "force_coeff=np.array([-coeff[1],-2*coeff[2],-3*coeff[3],-4*coeff[4]])\n",
    "force_function = fl.functions.Polynomial(deg=3,coefficients=force_coeff)\n",
    "diff_function= fl.functions.Polynomial(deg=0,coefficients=np.asarray([0.5]))\n",
    "dt=1e-3\n",
    "model_simu = fl.models.overdamped.Overdamped(force_function,diffusion=diff_function)\n",
    "simulator = fl.simulations.Simulator(fl.simulations.EulerStepper(model_simu), dt) #, k=0.0, xstop=6.0)\n",
    "ntraj=3\n",
    "q0= np.empty(ntraj)\n",
    "for i in range(len(q0)):\n",
    "    q0[i]=0\n",
    "# Calculate Trajectory\n",
    "time_steps=10000\n",
    "data = simulator.run(time_steps, q0, 1)\n",
    "tt=data[0]"
   ]
  },
  {
   "cell_type": "code",
   "execution_count": 21,
   "metadata": {},
   "outputs": [
    {
     "data": {
      "text/plain": [
       "{'x': array([[ 2.92840188e-02],\n",
       "        [ 3.99486832e-03],\n",
       "        [ 2.62282028e-02],\n",
       "        ...,\n",
       "        [-4.92528335e+00],\n",
       "        [-4.89855796e+00],\n",
       "        [-4.87503011e+00]]),\n",
       " 'dt': 0.001}"
      ]
     },
     "execution_count": 21,
     "metadata": {},
     "output_type": "execute_result"
    }
   ],
   "source": [
    "data[0]"
   ]
  },
  {
   "cell_type": "code",
   "execution_count": 18,
   "metadata": {},
   "outputs": [
    {
     "data": {
      "text/plain": [
       "True"
      ]
     },
     "execution_count": 18,
     "metadata": {},
     "output_type": "execute_result"
    }
   ],
   "source": [
    "hasattr(data,'trajectories_data')"
   ]
  },
  {
   "cell_type": "code",
   "execution_count": 23,
   "metadata": {},
   "outputs": [
    {
     "data": {
      "text/plain": [
       "folie.data.trajectories.Trajectories"
      ]
     },
     "execution_count": 23,
     "metadata": {},
     "output_type": "execute_result"
    }
   ],
   "source": [
    "fff=fl.data.trajectories.Trajectories(tt)\n",
    "type(fff)"
   ]
  }
 ],
 "metadata": {
  "kernelspec": {
   "display_name": "folie",
   "language": "python",
   "name": "python3"
  },
  "language_info": {
   "codemirror_mode": {
    "name": "ipython",
    "version": 3
   },
   "file_extension": ".py",
   "mimetype": "text/x-python",
   "name": "python",
   "nbconvert_exporter": "python",
   "pygments_lexer": "ipython3",
   "version": "3.12.2"
  }
 },
 "nbformat": 4,
 "nbformat_minor": 2
}
