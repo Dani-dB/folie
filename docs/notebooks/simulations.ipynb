{
 "cells": [
  {
   "cell_type": "markdown",
   "id": "324d299f",
   "metadata": {},
   "source": [
    "# Models simulations\n",
    "folie has some simulations capabilities. However, due to python performance, they are mostly orinented towards short validations runs and examples runs.\n",
    "\n",
    "For more efficient and longuer simulations, please turn to LangevinIntegrators.jl or StochasticDiffEq.jl. In the future we are also planning to write more efficient simulators within folie frameworks.\n"
   ]
  },
  {
   "cell_type": "code",
   "execution_count": 1,
   "id": "3af8aef8",
   "metadata": {},
   "outputs": [
    {
     "name": "stderr",
     "output_type": "stream",
     "text": [
      "/usr/local/lib/python3.10/dist-packages/matplotlib/projections/__init__.py:63: UserWarning: Unable to import Axes3D. This may be due to multiple versions of Matplotlib being installed (e.g. as a system package and as a pip package). As a result, the 3D projection is not available.\n",
      "  warnings.warn(\"Unable to import Axes3D. This may be due to multiple versions of \"\n"
     ]
    }
   ],
   "source": [
    "import numpy as np\n",
    "import folie as fl\n",
    "import matplotlib.pyplot as plt"
   ]
  },
  {
   "cell_type": "markdown",
   "id": "a9bb72df",
   "metadata": {},
   "source": [
    "Let's first define some models and instanciate the simulation. This require the definition of a stepper, i.e. the choice of a transition probability. We choose here to use the EulerStepper."
   ]
  },
  {
   "cell_type": "code",
   "execution_count": 2,
   "id": "819a042b",
   "metadata": {},
   "outputs": [],
   "source": [
    "model_simu = fl.models.OrnsteinUhlenbeck(0.0, 1.2, 2.0)\n",
    "stepper = fl.simulations.EulerStepper(model_simu)\n",
    "simulator = fl.simulations.Simulator(stepper, dt=1e-3)\n"
   ]
  },
  {
   "cell_type": "markdown",
   "id": "d0bbe9ac",
   "metadata": {},
   "source": [
    "We can then obtain somes trajectories, with normally distributted starting points."
   ]
  },
  {
   "cell_type": "code",
   "execution_count": 4,
   "id": "3a8d3da2",
   "metadata": {},
   "outputs": [
    {
     "ename": "TypeError",
     "evalue": "'tuple' object cannot be interpreted as an integer",
     "output_type": "error",
     "traceback": [
      "\u001b[0;31m---------------------------------------------------------------------------\u001b[0m",
      "\u001b[0;31mTypeError\u001b[0m                                 Traceback (most recent call last)",
      "\u001b[0;32m/tmp/ipykernel_5163/3606355413.py\u001b[0m in \u001b[0;36m<module>\u001b[0;34m\u001b[0m\n\u001b[0;32m----> 1\u001b[0;31m \u001b[0mdata\u001b[0m \u001b[0;34m=\u001b[0m \u001b[0msimulator\u001b[0m\u001b[0;34m.\u001b[0m\u001b[0mrun\u001b[0m\u001b[0;34m(\u001b[0m\u001b[0;36m5000\u001b[0m\u001b[0;34m,\u001b[0m\u001b[0mx0\u001b[0m\u001b[0;34m=\u001b[0m \u001b[0mnp\u001b[0m\u001b[0;34m.\u001b[0m\u001b[0mrandom\u001b[0m\u001b[0;34m.\u001b[0m\u001b[0mrandn\u001b[0m\u001b[0;34m(\u001b[0m\u001b[0;34m(\u001b[0m\u001b[0;36m25\u001b[0m\u001b[0;34m,\u001b[0m\u001b[0;34m)\u001b[0m\u001b[0;34m)\u001b[0m\u001b[0;34m)\u001b[0m\u001b[0;34m\u001b[0m\u001b[0;34m\u001b[0m\u001b[0m\n\u001b[0m",
      "\u001b[0;32mnumpy/random/mtrand.pyx\u001b[0m in \u001b[0;36mnumpy.random.mtrand.RandomState.randn\u001b[0;34m()\u001b[0m\n",
      "\u001b[0;32mnumpy/random/mtrand.pyx\u001b[0m in \u001b[0;36mnumpy.random.mtrand.RandomState.standard_normal\u001b[0;34m()\u001b[0m\n",
      "\u001b[0;32m_common.pyx\u001b[0m in \u001b[0;36mnumpy.random._common.cont\u001b[0;34m()\u001b[0m\n",
      "\u001b[0;31mTypeError\u001b[0m: 'tuple' object cannot be interpreted as an integer"
     ]
    }
   ],
   "source": [
    "data = simulator.run(5000,x0= np.random.randn((25,)))"
   ]
  },
  {
   "cell_type": "code",
   "execution_count": null,
   "id": "c56e4519",
   "metadata": {},
   "outputs": [],
   "source": [
    "fig, axs = plt.subplots(1, 1)\n",
    "for n, trj in enumerate(data):\n",
    "    axs.plot(trj[\"x\"])"
   ]
  },
  {
   "cell_type": "markdown",
   "id": "ff628e0d",
   "metadata": {},
   "source": [
    "There is also the possibility to run biased simulations for tests. Let's run adiabatic biased modelcular dynamics (ABMD) simulations. "
   ]
  },
  {
   "cell_type": "code",
   "execution_count": null,
   "id": "af101ce9",
   "metadata": {},
   "outputs": [],
   "source": [
    "simulator = fl.simulations.ABMD_Simulator(stepper, 1e-3, k=10.0, xstop=6.0)\n",
    "data_biased = simulator.run(5000, np.zeros((25,)), 25)"
   ]
  },
  {
   "cell_type": "code",
   "execution_count": null,
   "id": "21ecfc70",
   "metadata": {},
   "outputs": [],
   "source": [
    "xmax = np.concatenate(simulator.xmax_hist, axis=1).T\n",
    "fig, axs = plt.subplots(1, 2)\n",
    "for n, trj in enumerate(data):\n",
    "    axs[0].plot(trj[\"x\"])\n",
    "    axs[1].plot(xmax[:, n])"
   ]
  }
 ],
 "metadata": {
  "kernelspec": {
   "display_name": "Python 3 (ipykernel)",
   "language": "python",
   "name": "python3"
  },
  "language_info": {
   "codemirror_mode": {
    "name": "ipython",
    "version": 3
   },
   "file_extension": ".py",
   "mimetype": "text/x-python",
   "name": "python",
   "nbconvert_exporter": "python",
   "pygments_lexer": "ipython3",
   "version": "3.10.12"
  }
 },
 "nbformat": 4,
 "nbformat_minor": 5
}
